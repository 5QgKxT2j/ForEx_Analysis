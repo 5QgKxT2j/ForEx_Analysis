{
  "nbformat": 4,
  "nbformat_minor": 0,
  "metadata": {
    "colab": {
      "name": "bybit-analysis",
      "provenance": [],
      "collapsed_sections": [],
      "toc_visible": true,
      "authorship_tag": "ABX9TyN04ofBZOoQNk1N5TYoS9hv",
      "include_colab_link": true
    },
    "kernelspec": {
      "name": "python3",
      "display_name": "Python 3"
    }
  },
  "cells": [
    {
      "cell_type": "markdown",
      "metadata": {
        "id": "view-in-github",
        "colab_type": "text"
      },
      "source": [
        "<a href=\"https://colab.research.google.com/github/5QgKxT2j/ForEx_Analysis/blob/master/bybit_analysis.ipynb\" target=\"_parent\"><img src=\"https://colab.research.google.com/assets/colab-badge.svg\" alt=\"Open In Colab\"/></a>"
      ]
    },
    {
      "cell_type": "code",
      "metadata": {
        "id": "ob2-l4jKxeeC"
      },
      "source": [
        "import pandas as pd\n",
        "import matplotlib.pyplot as plt\n",
        "import datetime as dt\n",
        "import numpy as np\n",
        "\n",
        "%matplotlib inline"
      ],
      "execution_count": null,
      "outputs": []
    },
    {
      "cell_type": "code",
      "metadata": {
        "id": "Gr4KrpSsxw7t"
      },
      "source": [
        "bybit_key = \"./bybit/inverse/BTCUSD/BTCUSD2021-02-02.csv.gz\"\n",
        "binance_key = \"./binance/spot/BTCUSDT/BTCUSDT2021-02-02.csv.gz\"\n",
        "bybit_df = pd.read_csv(bybit_key)\n",
        "binance_df = pd.read_csv(binance_key)"
      ],
      "execution_count": null,
      "outputs": []
    },
    {
      "cell_type": "code",
      "metadata": {
        "id": "WChK7x5txzfk"
      },
      "source": [
        "#bybit_df = bybit_df[[\"timestamp\", \"side\", \"size\", \"price\"]]\n",
        "#binance_df = binance_df[[\"p\", \"q\", \"T\", \"m\"]]\n",
        "#binance_df[\"m\"] = binance_df[\"m\"].replace({True: \"Sell\", False: \"Buy\"})\n",
        "#binance_df = binance_df.rename(columns={\"p\": \"price\", \"q\": \"size\", \"T\": \"timestamp\", \"m\": \"side\"})\n",
        "\n",
        "bybit_df = bybit_df[[\"timestamp\", \"size\", \"price\"]]\n",
        "binance_df = binance_df[[\"p\", \"q\", \"T\"]]\n",
        "binance_df = binance_df.rename(columns={\"p\": \"price\", \"q\": \"size\", \"T\": \"timestamp\"})"
      ],
      "execution_count": null,
      "outputs": []
    }
  ]
}